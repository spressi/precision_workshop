{
  "cells": [
    {
      "cell_type": "raw",
      "metadata": {},
      "source": [
        "---\n",
        "title: \"2.3 Visualizing Uncertainty\"\n",
        "subtitle: \"Workshop: \\\"Handling Uncertainty in your Data\\\"\"\n",
        "author: \"Dr. Mario Reutter & Juli Nagel\"\n",
        "format: \n",
        "  revealjs:\n",
        "    smaller: true\n",
        "    scrollable: true\n",
        "    slide-number: true\n",
        "    theme: serif\n",
        "    chalkboard: true\n",
        "    width: 1280\n",
        "    height: 720\n",
        "from: markdown+emoji\n",
        "execute: \n",
        "  echo: true\n",
        "---"
      ],
      "id": "38b6a2f1"
    },
    {
      "cell_type": "markdown",
      "metadata": {},
      "source": [
        "# Visualizing Confidence Intervals (CIs)\n",
        "\n",
        "\n",
        "```{css}\n",
        "#| echo: false\n",
        "\n",
        "code.sourceCode {\n",
        "font-size: 1.4em;\n",
        "}\n",
        "\n",
        "div.cell-output-stdout {\n",
        "font-size: 1.4em;\n",
        "}\n",
        "```"
      ],
      "id": "3bca566a"
    }
  ],
  "metadata": {
    "kernelspec": {
      "display_name": "Python 3",
      "language": "python",
      "name": "python3"
    }
  },
  "nbformat": 4,
  "nbformat_minor": 5
}